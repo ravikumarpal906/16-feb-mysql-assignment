{
 "cells": [
  {
   "cell_type": "markdown",
   "metadata": {},
   "source": [
    "Q1. What is a database? Differentiate between SQL and NoSQL databases."
   ]
  },
  {
   "cell_type": "markdown",
   "metadata": {},
   "source": [
    "A database is a structured collection of data that is organized and stored for efficient retrieval, manipulation, and management. \n",
    "\n",
    "SQL (Structured Query Language) Databases:\n",
    "\n",
    "SQL databases are relational databases that store data in structured tables with predefined schemas. Each table has columns (attributes) and rows (records).\n",
    "They are also known as RDBMS (Relational Database Management Systems) and include popular systems like MySQL, PostgreSQL, Oracle, and Microsoft SQL Server.\n",
    "SQL databases use a fixed schema, meaning the structure of the database, including table names, column names, and data types, is defined before data insertion.\n",
    "Data integrity is enforced through relationships and constraints defined in the schema.\n",
    "SQL databases are best suited for structured data with well-defined relationships, and they are excellent for complex queries and transactions.\n",
    "They are typically used in scenarios where data consistency and ACID (Atomicity, Consistency, Isolation, Durability) transactions are critical.\n",
    "\n",
    "NoSQL (Not Only SQL) Databases:\n",
    "\n",
    "NoSQL databases are non-relational databases designed to store and manage unstructured or semi-structured data. They include document stores, key-value stores, column-family stores, and graph databases.\n",
    "Examples of NoSQL databases include MongoDB (document store), Cassandra (column-family store), Redis (key-value store), and Neo4j (graph database).\n",
    "NoSQL databases provide flexibility in data modeling, allowing developers to store data in a more dynamic and schema-less manner.\n",
    "They are suitable for handling large volumes of data, including data that doesn't fit neatly into structured tables, such as JSON or XML documents.\n",
    "NoSQL databases are often used in scenarios that require horizontal scalability and high availability, like web applications and big data analytics.\n",
    "Unlike SQL databases, they may sacrifice some aspects of data consistency (e.g., eventual consistency) for scalability and performance."
   ]
  },
  {
   "cell_type": "markdown",
   "metadata": {},
   "source": [
    "Q2. What is DDL? Explain why CREATE, DROP, ALTER, and TRUNCATE are used with an example."
   ]
  },
  {
   "cell_type": "markdown",
   "metadata": {},
   "source": [
    "DDL (Data Definition Language) is a subset of SQL (Structured Query Language) that is used to define, manage, and modify the structure of a database. DDL statements are responsible for creating, altering, and dropping database objects like tables, indexes, and constraints. They help in defining the schema of a database."
   ]
  },
  {
   "cell_type": "code",
   "execution_count": null,
   "metadata": {
    "vscode": {
     "languageId": "sql"
    }
   },
   "outputs": [],
   "source": [
    "-- CREATE: The CREATE statement is used to create new database objects like tables, views, indexes, or schemas. Here's an example of creating a new table: sql\n",
    "\n",
    "CREATE TABLE test.employees ( employee_id INT PRIMARY KEY, first_name VARCHAR(50), last_name VARCHAR(50), hire_date DATE );"
   ]
  },
  {
   "cell_type": "code",
   "execution_count": null,
   "metadata": {
    "vscode": {
     "languageId": "sql"
    }
   },
   "outputs": [],
   "source": [
    "-- DROP: The DROP statement is used to delete existing database objects, such as tables or indexes. Here's an example of dropping a table: sql\n",
    "\n",
    "DROP TABLE employees;"
   ]
  },
  {
   "cell_type": "code",
   "execution_count": null,
   "metadata": {
    "vscode": {
     "languageId": "sql"
    }
   },
   "outputs": [],
   "source": [
    "-- ALTER: The ALTER statement is used to modify the structure of an existing database object, typically a table. For example, you can add or remove columns or modify column data types: sql\n",
    "\n",
    "ALTER TABLE employees ADD email VARCHAR(100);"
   ]
  },
  {
   "cell_type": "code",
   "execution_count": null,
   "metadata": {
    "vscode": {
     "languageId": "sql"
    }
   },
   "outputs": [],
   "source": [
    "-- TRUNCATE: The TRUNCATE statement is used to remove all rows from a table, effectively deleting all data while keeping the table structure intact: sql\n",
    "\n",
    "TRUNCATE TABLE employees;"
   ]
  },
  {
   "cell_type": "markdown",
   "metadata": {},
   "source": [
    "Q3. What is DML? Explain INSERT, UPDATE, and DELETE with an example.\n",
    "\n",
    "\n",
    "DML (Data Manipulation Language) is a subset of SQL (Structured Query Language) that focuses on manipulating data within a database. DML statements are used to retrieve, insert, update, and delete data from database tables. Let's explore three essential DML commands: INSERT, UPDATE, and DELETE, with examples:"
   ]
  },
  {
   "cell_type": "code",
   "execution_count": 2,
   "metadata": {
    "vscode": {
     "languageId": "sql"
    }
   },
   "outputs": [
    {
     "ename": "SyntaxError",
     "evalue": "invalid syntax (3873941349.py, line 1)",
     "output_type": "error",
     "traceback": [
      "\u001b[0;36m  Cell \u001b[0;32mIn[2], line 1\u001b[0;36m\u001b[0m\n\u001b[0;31m    -- INSERT: The INSERT statement is used to add new rows (records) into a database table. You specify the table name and provide values for each column in the new row. Here's an example of inserting a new employee record:\u001b[0m\n\u001b[0m                   ^\u001b[0m\n\u001b[0;31mSyntaxError\u001b[0m\u001b[0;31m:\u001b[0m invalid syntax\n"
     ]
    }
   ],
   "source": [
    "-- INSERT: The INSERT statement is used to add new rows (records) into a database table. You specify the table name and provide values for each column in the new row. Here's an example of inserting a new employee record:\n",
    "\n",
    "\n",
    "INSERT INTO test.employees (employee_id, first_name, last_name, hire_date)\n",
    "VALUES (102, 'John', 'Doe', '2023-01-15');"
   ]
  },
  {
   "cell_type": "code",
   "execution_count": null,
   "metadata": {
    "vscode": {
     "languageId": "sql"
    }
   },
   "outputs": [],
   "source": [
    "-- UPDATE: The UPDATE statement is used to modify existing records within a table. You specify the table name, set the columns you want to update, and provide new values. Here's an example of updating an employee's last name:\n",
    "UPDATE test.employees\n",
    "SET last_name = 'Smith'\n",
    "WHERE employee_id = 101;"
   ]
  },
  {
   "cell_type": "code",
   "execution_count": null,
   "metadata": {
    "vscode": {
     "languageId": "sql"
    }
   },
   "outputs": [],
   "source": [
    "-- DELETE: The DELETE statement is used to remove rows from a table based on specified conditions. It is used to delete records that meet certain criteria. Here's an example of deleting an employee record:\n",
    "\n",
    "\n",
    "DELETE FROM test.employees\n",
    "WHERE employee_id = 101;"
   ]
  },
  {
   "cell_type": "markdown",
   "metadata": {},
   "source": [
    "Q4. What is DQL? Explain SELECT with an example."
   ]
  },
  {
   "cell_type": "markdown",
   "metadata": {},
   "source": [
    "DQL (Data Query Language) is a subset of SQL (Structured Query Language) that is primarily used for querying and retrieving data from a database. The primary DQL command is SELECT, which allows you to specify the data you want to retrieve from one or more database tables. "
   ]
  },
  {
   "cell_type": "code",
   "execution_count": null,
   "metadata": {
    "vscode": {
     "languageId": "sql"
    }
   },
   "outputs": [],
   "source": [
    "-- Select All Rows and Columns:To retrieve all rows and all columns from the students table, you can use the SELECT * statement:\n",
    "\n",
    "\n",
    "SELECT * FROM test.employees;"
   ]
  },
  {
   "cell_type": "code",
   "execution_count": null,
   "metadata": {
    "vscode": {
     "languageId": "sql"
    }
   },
   "outputs": [],
   "source": [
    "-- <!-- Select Specific Columns: You can select specific columns by specifying their names after the SELECT keyword: -->\n",
    "\n",
    "SELECT first_name, last_name FROM test.employees;"
   ]
  },
  {
   "cell_type": "markdown",
   "metadata": {},
   "source": [
    "Q5. Explain Primary Key and Foreign Key."
   ]
  },
  {
   "cell_type": "markdown",
   "metadata": {},
   "source": [
    "Primary Key:\n",
    "\n",
    "A primary key is a field or a combination of fields in a database table that uniquely identifies each record (row) in that table. It serves as a unique identifier for each row and ensures that no two rows in the table have the same values for the primary key. \n",
    "\n",
    "Foreign Key:\n",
    "\n",
    "A foreign key is a field in a database table that is used to establish a link between two tables. It creates a relationship between two tables by referencing the primary key of another table. "
   ]
  },
  {
   "cell_type": "markdown",
   "metadata": {},
   "source": [
    "Q6. Write a python code to connect MySQL to python. Explain the cursor() and execute() method."
   ]
  },
  {
   "cell_type": "code",
   "execution_count": 3,
   "metadata": {},
   "outputs": [
    {
     "name": "stdout",
     "output_type": "stream",
     "text": [
      "<mysql.connector.connection_cext.CMySQLConnection object at 0x7fde3c55c610>\n",
      "('information_schema',)\n",
      "('mysql',)\n",
      "('performance_schema',)\n",
      "('sys',)\n",
      "('test',)\n"
     ]
    }
   ],
   "source": [
    "import mysql.connector\n",
    "# import mysql.connector\n",
    "#create user 'user'@'%' identified by 'password'\n",
    "mydb = mysql.connector.connect(\n",
    "  host=\"localhost\",\n",
    "  user=\"abc\",\n",
    "  password=\"password\"\n",
    ")\n",
    "print(mydb)\n",
    "mycursor = mydb.cursor()\n",
    "mycursor.execute(\"SHOW DATABASES\")\n",
    "for x in mycursor:\n",
    "  print(x)"
   ]
  },
  {
   "cell_type": "markdown",
   "metadata": {},
   "source": [
    "cursor(): This line creates a cursor object named cursor using the cursor() method of the database connection. The cursor is used to execute SQL queries and fetch results from the database.\n",
    "\n",
    "The execute() method is used to execute an SQL query specified in sql_query. You can also pass optional data as a tuple to be inserted into the query using placeholders (%s). In the code above, we used execute() to create a table, insert data, and fetch data from the database."
   ]
  },
  {
   "cell_type": "markdown",
   "metadata": {},
   "source": [
    "Q7. Give the order of execution of SQL clauses in an SQL query."
   ]
  },
  {
   "cell_type": "markdown",
   "metadata": {},
   "source": [
    "In an SQL query, the clauses are typically executed in the following order:\n",
    "\n",
    "SELECT: The SELECT clause specifies the columns you want to retrieve from the database. It is one of the first clauses to be executed.\n",
    "\n",
    "FROM: The FROM clause specifies the tables from which you are retrieving data. After executing the SELECT clause, the database knows which columns you want, but it needs to determine from which tables to fetch them. This is where the FROM clause comes in.\n",
    "\n",
    "WHERE: The WHERE clause is used to filter the rows returned by the query based on a specified condition. It is executed after the FROM clause, ensuring that only rows meeting the specified criteria are included in the result set.\n",
    "\n",
    "GROUP BY: The GROUP BY clause is used to group rows with the same values in specified columns into summary rows. It is executed after the WHERE clause and before the HAVING clause if present.\n",
    "\n",
    "HAVING: The HAVING clause is used to filter grouped rows based on aggregate functions (e.g., SUM, COUNT). It is similar to the WHERE clause but is used with grouped data. It is executed after the GROUP BY clause.\n",
    "\n",
    "ORDER BY: The ORDER BY clause is used to sort the result set based on one or more columns, either in ascending (ASC) or descending (DESC) order. It is executed after all previous clauses and before the final result is returned.\n",
    "\n",
    "LIMIT/OFFSET: These clauses are used to limit the number of rows returned or to skip a specified number of rows before starting to return results. They are applied after the ORDER BY clause, affecting the final result set's size and ordering.\n",
    "\n",
    "UNION/INTERSECT/EXCEPT: These set operations combine or compare the result sets of two or more queries. They are executed after all the clauses mentioned earlier and before the final result set is returned."
   ]
  },
  {
   "cell_type": "markdown",
   "metadata": {},
   "source": []
  }
 ],
 "metadata": {
  "kernelspec": {
   "display_name": "Python 3.8.10 64-bit",
   "language": "python",
   "name": "python3"
  },
  "language_info": {
   "codemirror_mode": {
    "name": "ipython",
    "version": 3
   },
   "file_extension": ".py",
   "mimetype": "text/x-python",
   "name": "python",
   "nbconvert_exporter": "python",
   "pygments_lexer": "ipython3",
   "version": "3.8.10"
  },
  "orig_nbformat": 4,
  "vscode": {
   "interpreter": {
    "hash": "e7370f93d1d0cde622a1f8e1c04877d8463912d04d973331ad4851f04de6915a"
   }
  }
 },
 "nbformat": 4,
 "nbformat_minor": 2
}
